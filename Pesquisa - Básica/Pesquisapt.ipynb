{
 "cells": [
  {
   "cell_type": "markdown",
   "id": "e6da2a72",
   "metadata": {},
   "source": [
    "# 🔍 Pesquisa - Básico\",\n",
    "\n",
    "Este notebook tem como objetivo apresentar **consultas básicas no Elasticsearch**.\n",
    "\n",
    "Vamos explorar como realizar pesquisas simples utilizando a API de busca da ferramenta, com exemplos práticos e objetivos.\n",
    "\n",
    "A ideia é mostrar como localizar documentos com base em seus campos, utilizando filtros e parâmetros comuns do dia a dia.\n",
    "\n",
    "Para maiores, informações, acessar o [link](https://www.elastic.co/docs/solutions/search/full-text)"
   ]
  }
 ],
 "metadata": {
  "language_info": {
   "name": "python"
  }
 },
 "nbformat": 4,
 "nbformat_minor": 5
}
