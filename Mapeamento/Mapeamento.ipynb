{
 "cells": [
  {
   "cell_type": "markdown",
   "id": "8a241359",
   "metadata": {},
   "source": [
    "# Mapeamento"
   ]
  },
  {
   "cell_type": "markdown",
   "id": "37093aa7",
   "metadata": {},
   "source": [
    "O elastisearch possui um processo interno que identifica o tipo de dado de cada cháve que é salva em um determinado indíce (processo chamado indice). Neste notebook, será discutido como o elastisearch mapea cada tipo de dado automaticamente e como fazer o processo manual , útil em diversas situações. \n",
    "\n",
    "Para mostrar essa funcionalidade, utilizaremos o seguinte dicionário que representa dados de uma música\n",
    "\n",
    "Para melhor detalhes , acesse o [link](https://www.elastic.co/docs/reference/elasticsearch/mapping-reference/field-data-types)\n"
   ]
  },
  {
   "cell_type": "code",
   "execution_count": 1,
   "id": "16cfa4aa",
   "metadata": {},
   "outputs": [],
   "source": [
    "import datetime\n",
    "import base64\n",
    "letra_musica = {\n",
    "    \"titulo\": \"Meu Novo Mundo\",\n",
    "    \"autor\": \"Charlie Brown Jr\",\n",
    "    \"letra\": \"Como se o silêncio dissesse tudo  \\n  Um sentimento bom que me leva pra outro mundo  \\n  A vontade de te ver já é maior que tudo  \\n  Não existem distâncias no meu novo mundo  \\n    \\n  Tipo coisas da sétima arte  \\n  Aconteceu sem que eu imaginasse  \\n    \\n  Sonho de consumo cantar na sua festa  \\n  Vem dançar comigo  \\n  Aproveita e me sequestra  \\n  Amor vagabundo, intenso ou muita pressa  \\n  Não sei como termina mas sei como começa  \\n    \\n  Fiz essa canção pra dizer algumas coisas  \\n  Cuidado com o destino  \\n  Ele brinca com as pessoas  \\n  Tipo uma foto com sorriso inocente  \\n  Mas a vida tinha um plano e separou a gente  \\n    \\n  Mas se quem eu amo tem amor por mim  \\n  Se quem eu amo tem amor por mim  \\n  Eu sei que ainda estamos muito longe do fim  \\n    \\n  A vontade de te ver já é maior que tudo  \\n  E não existem distâncias no meu novo mundo  \\n  A vontade de te ver já é maior que tudo  \\n  E não existem distâncias no meu novo mundo  \\n  A vontade de te ver já é maior que tudo  \\n  E não existem distâncias no meu novo mundo  \\n  A vontade de te ver já é maior que tudo  \\n  E não existem distâncias no meu novo mundo  \\n    \\n  Fiz essa canção pra dizer algumas coisas  \\n  Cuidado com o destino  \\n  Ele brinca com as pessoas  \\n  Tipo uma foto com sorriso inocente  \\n  Mas a vida tinha um plano e separou a gente  \\n    \\n  Mas se quem eu amo tem amor por mim  \\n  Se quem eu amo tem amor por mim  \\n  Eu sei que ainda estamos muito longe do fim  \\n    \\n  A vontade de te ver já é maior que tudo  \\n  E não existem distâncias no meu novo mundo  \\n  A vontade de te ver já é maior que tudo  \\n  E não existem distâncias no meu novo mundo  \\n  A vontade de te ver já é maior que tudo  \\n  E não existem distâncias no meu novo mundo  \\n  A vontade de te ver já é maior que tudo  \\n  E não existem distâncias no meu novo mundo\",\n",
    "    \"compositor\": \"Compositores: Alexandre Magno Abrao (UBC), Thiago Raphael Castanho (ABRAMUS)\",\n",
    "    \"editor\": \"Editores: Sony Music (UBC), Digital Grooves Records (ABRAMUS)\",\n",
    "    \"url\": \"https://www.vagalume.com.br/charlie-brown-jr/meu-novo-mundo.html\",\n",
    "    \"administracao\": \"Administração: Sony Music Publishing (UBC)\",\n",
    "    \"ano\": 2013,\n",
    "    \"extracao\": \"2025-06-03\",\n",
    "    \"extracao_mes\":\"2025-06\",\n",
    "    \"extracao_exata\": \"2025-06-03 12:00:00\",\n",
    "    \"genero\":\"rock\",\n",
    "    \"pontuacao_letras\":4.5,\n",
    "    \"pontuacao_vagalume\":4,\n",
    "    \"url_letras\":\"https://www.letras.mus.br/charlie-brown-jr/meu-novo-mundo/\",\n",
    "    \"comentarios\":[\n",
    "        {\n",
    "            \"autor\":\"gal tropical\",\n",
    "            \"data\":datetime.datetime(2023, 10, 1, 12, 30),\n",
    "            \"titulo\":\"Tipo coisas da sétima arte\",\n",
    "            \"texto\":\"Essa música é uma viagem no tempo, me faz lembrar de momentos incríveis com pessoas especiais. A letra é profunda e cheia de significado, como se cada verso fosse um pedaço da minha própria história. Charlie Brown Jr sempre soube como tocar o coração da gente.\",\n",
    "            \"ip_comentarista\":\"192.168.1.10\"\n",
    "        }\n",
    "    ],\n",
    "    \"bytes_mp4\": base64.b64encode(b'some binary data').decode('utf-8'),\n",
    "    \"musica_tocada_radio\": False\n",
    "}"
   ]
  },
  {
   "cell_type": "markdown",
   "id": "dc0dfb63",
   "metadata": {},
   "source": [
    "Criando indice e salvando a música"
   ]
  },
  {
   "cell_type": "code",
   "execution_count": 2,
   "id": "555c8b96",
   "metadata": {},
   "outputs": [],
   "source": [
    "# Criando o conector com elasticsearch\n",
    "# Modificar a variável PASSWORD para a senha configurado no .env\n",
    "from elasticsearch import Elasticsearch\n",
    "\n",
    "HOST = 'http://localhost:9200'\n",
    "USERNAME = 'elastic'\n",
    "PASSWORD = 'test10'\n",
    "\n",
    "client = Elasticsearch(\n",
    "    HOST,\n",
    "    basic_auth=(USERNAME,PASSWORD)\n",
    ")\n"
   ]
  },
  {
   "cell_type": "code",
   "execution_count": 3,
   "id": "b2bb8eb6",
   "metadata": {},
   "outputs": [],
   "source": [
    "INDEX_MAPPING_MUSICA = 'mapeamento_musica'"
   ]
  },
  {
   "cell_type": "code",
   "execution_count": 4,
   "id": "d5de31d0",
   "metadata": {},
   "outputs": [
    {
     "data": {
      "text/plain": [
       "ObjectApiResponse({'acknowledged': True, 'shards_acknowledged': True, 'index': 'mapeamento_musica'})"
      ]
     },
     "execution_count": 4,
     "metadata": {},
     "output_type": "execute_result"
    }
   ],
   "source": [
    "if client.indices.exists(index=INDEX_MAPPING_MUSICA):\n",
    "    client.indices.delete(index=INDEX_MAPPING_MUSICA)\n",
    "client.indices.create(index=INDEX_MAPPING_MUSICA)"
   ]
  },
  {
   "cell_type": "code",
   "execution_count": 5,
   "id": "eb02b089",
   "metadata": {},
   "outputs": [
    {
     "data": {
      "text/plain": [
       "ObjectApiResponse({'_index': 'mapeamento_musica', '_id': '4bOSS5cBUW64_IbYCx32', '_version': 1, 'result': 'created', '_shards': {'total': 2, 'successful': 1, 'failed': 0}, '_seq_no': 0, '_primary_term': 1})"
      ]
     },
     "execution_count": 5,
     "metadata": {},
     "output_type": "execute_result"
    }
   ],
   "source": [
    "#Salvando o primeiro objeto e verificando o mapeamento\n",
    "client.index(index=INDEX_MAPPING_MUSICA, document=letra_musica)"
   ]
  },
  {
   "cell_type": "code",
   "execution_count": 6,
   "id": "2a64ebf9",
   "metadata": {},
   "outputs": [],
   "source": [
    "mapping_musica = client.indices.get_mapping(index=INDEX_MAPPING_MUSICA)"
   ]
  },
  {
   "cell_type": "code",
   "execution_count": 7,
   "id": "5c8e8439",
   "metadata": {},
   "outputs": [
    {
     "data": {
      "text/plain": [
       "{'properties': {'administracao': {'type': 'text',\n",
       "   'fields': {'keyword': {'type': 'keyword', 'ignore_above': 256}}},\n",
       "  'ano': {'type': 'long'},\n",
       "  'autor': {'type': 'text',\n",
       "   'fields': {'keyword': {'type': 'keyword', 'ignore_above': 256}}},\n",
       "  'bytes_mp4': {'type': 'text',\n",
       "   'fields': {'keyword': {'type': 'keyword', 'ignore_above': 256}}},\n",
       "  'comentarios': {'properties': {'autor': {'type': 'text',\n",
       "     'fields': {'keyword': {'type': 'keyword', 'ignore_above': 256}}},\n",
       "    'data': {'type': 'date'},\n",
       "    'ip_comentarista': {'type': 'text',\n",
       "     'fields': {'keyword': {'type': 'keyword', 'ignore_above': 256}}},\n",
       "    'texto': {'type': 'text',\n",
       "     'fields': {'keyword': {'type': 'keyword', 'ignore_above': 256}}},\n",
       "    'titulo': {'type': 'text',\n",
       "     'fields': {'keyword': {'type': 'keyword', 'ignore_above': 256}}}}},\n",
       "  'compositor': {'type': 'text',\n",
       "   'fields': {'keyword': {'type': 'keyword', 'ignore_above': 256}}},\n",
       "  'editor': {'type': 'text',\n",
       "   'fields': {'keyword': {'type': 'keyword', 'ignore_above': 256}}},\n",
       "  'extracao': {'type': 'date'},\n",
       "  'extracao_exata': {'type': 'text',\n",
       "   'fields': {'keyword': {'type': 'keyword', 'ignore_above': 256}}},\n",
       "  'extracao_mes': {'type': 'date'},\n",
       "  'genero': {'type': 'text',\n",
       "   'fields': {'keyword': {'type': 'keyword', 'ignore_above': 256}}},\n",
       "  'letra': {'type': 'text',\n",
       "   'fields': {'keyword': {'type': 'keyword', 'ignore_above': 256}}},\n",
       "  'musica_tocada_radio': {'type': 'boolean'},\n",
       "  'pontuacao_letras': {'type': 'float'},\n",
       "  'pontuacao_vagalume': {'type': 'long'},\n",
       "  'titulo': {'type': 'text',\n",
       "   'fields': {'keyword': {'type': 'keyword', 'ignore_above': 256}}},\n",
       "  'url': {'type': 'text',\n",
       "   'fields': {'keyword': {'type': 'keyword', 'ignore_above': 256}}},\n",
       "  'url_letras': {'type': 'text',\n",
       "   'fields': {'keyword': {'type': 'keyword', 'ignore_above': 256}}}}}"
      ]
     },
     "execution_count": 7,
     "metadata": {},
     "output_type": "execute_result"
    }
   ],
   "source": [
    "mapping_musica.body['mapeamento_musica']['mappings']"
   ]
  },
  {
   "cell_type": "markdown",
   "id": "fcdf70fd",
   "metadata": {},
   "source": [
    "### Campo texto"
   ]
  },
  {
   "cell_type": "markdown",
   "id": "b4c46358",
   "metadata": {},
   "source": [
    "Ententendo como cada chave foi identificada no elastisearch.\n",
    "\n",
    "Começando com as chaves do tipo texto, como \"administracao\",\"compositor\" e \"letra\""
   ]
  },
  {
   "cell_type": "code",
   "execution_count": 8,
   "id": "6ca087a3",
   "metadata": {},
   "outputs": [
    {
     "data": {
      "text/plain": [
       "{'type': 'text',\n",
       " 'fields': {'keyword': {'type': 'keyword', 'ignore_above': 256}}}"
      ]
     },
     "execution_count": 8,
     "metadata": {},
     "output_type": "execute_result"
    }
   ],
   "source": [
    "# Olhando a chave \"compositor\"\n",
    "mapping_musica.body['mapeamento_musica']['mappings']['properties']['compositor']"
   ]
  },
  {
   "cell_type": "markdown",
   "id": "2f68ff4d",
   "metadata": {},
   "source": [
    "A chave 'compositor' foi identificada como sendo do tipo texto (text). No entanto, o Elasticsearch também criou automaticamente um field chamado 'compositor.keyword', mapeando-o como do tipo palavra-chave (keyword).\n",
    "\n",
    "O 'field'  permite que uma mesma chave seja representada com mais de um tipo de dado. No caso, 'compositor' é do tipo texto, enquanto 'compositor.keyword' é do tipo palavra-chave. Isso possibilita diferentes formas de consulta sobre o mesmo valor, sem a necessidade de duplicar os dados.\n",
    "\n",
    "A principal diferença entre os tipos text e keyword está na forma como as buscas são realizadas:\n",
    "\n",
    "1. O tipo text permite pesquisas por trechos ou palavras dentro do conteúdo, utilizando os algoritmos de análise textual do Elasticsearch.\n",
    "\n",
    "2. Já o tipo keyword é usado para buscas exatas, sem análise ou divisão do conteúdo.\n",
    "\n",
    "\n",
    "Por default, todos os campos do tipo texto/strings são mapeados como texto e criado um field do tipo keyword, inclusive ip e url\n",
    "\n"
   ]
  },
  {
   "cell_type": "code",
   "execution_count": 9,
   "id": "05fe8257",
   "metadata": {},
   "outputs": [
    {
     "data": {
      "text/plain": [
       "{'type': 'text',\n",
       " 'fields': {'keyword': {'type': 'keyword', 'ignore_above': 256}}}"
      ]
     },
     "execution_count": 9,
     "metadata": {},
     "output_type": "execute_result"
    }
   ],
   "source": [
    "# Olhando a chave \"letra\" \n",
    "mapping_musica.body['mapeamento_musica']['mappings']['properties']['letra']"
   ]
  },
  {
   "cell_type": "markdown",
   "id": "3a3c304d",
   "metadata": {},
   "source": [
    "Fazendo pesquisa pelo o texto e pela palavra-chave para mostrar a difença"
   ]
  },
  {
   "cell_type": "code",
   "execution_count": 10,
   "id": "8db77e70",
   "metadata": {},
   "outputs": [],
   "source": [
    "#Pesquisando por autor\n",
    "search_query = {\n",
    "    \"query\": {\n",
    "        \"match\": {\n",
    "            \"autor\": \"Charlie\"\n",
    "        }\n",
    "    }\n",
    "}\n",
    "response = client.search(index=INDEX_MAPPING_MUSICA, body=search_query)"
   ]
  },
  {
   "cell_type": "code",
   "execution_count": 11,
   "id": "d0f2c09e",
   "metadata": {},
   "outputs": [
    {
     "data": {
      "text/plain": [
       "{'took': 65,\n",
       " 'timed_out': False,\n",
       " '_shards': {'total': 1, 'successful': 1, 'skipped': 0, 'failed': 0},\n",
       " 'hits': {'total': {'value': 1, 'relation': 'eq'},\n",
       "  'max_score': 0.2876821,\n",
       "  'hits': [{'_index': 'mapeamento_musica',\n",
       "    '_id': '4bOSS5cBUW64_IbYCx32',\n",
       "    '_score': 0.2876821,\n",
       "    '_ignored': ['comentarios.texto.keyword', 'letra.keyword'],\n",
       "    '_source': {'titulo': 'Meu Novo Mundo',\n",
       "     'autor': 'Charlie Brown Jr',\n",
       "     'letra': 'Como se o silêncio dissesse tudo  \\n  Um sentimento bom que me leva pra outro mundo  \\n  A vontade de te ver já é maior que tudo  \\n  Não existem distâncias no meu novo mundo  \\n    \\n  Tipo coisas da sétima arte  \\n  Aconteceu sem que eu imaginasse  \\n    \\n  Sonho de consumo cantar na sua festa  \\n  Vem dançar comigo  \\n  Aproveita e me sequestra  \\n  Amor vagabundo, intenso ou muita pressa  \\n  Não sei como termina mas sei como começa  \\n    \\n  Fiz essa canção pra dizer algumas coisas  \\n  Cuidado com o destino  \\n  Ele brinca com as pessoas  \\n  Tipo uma foto com sorriso inocente  \\n  Mas a vida tinha um plano e separou a gente  \\n    \\n  Mas se quem eu amo tem amor por mim  \\n  Se quem eu amo tem amor por mim  \\n  Eu sei que ainda estamos muito longe do fim  \\n    \\n  A vontade de te ver já é maior que tudo  \\n  E não existem distâncias no meu novo mundo  \\n  A vontade de te ver já é maior que tudo  \\n  E não existem distâncias no meu novo mundo  \\n  A vontade de te ver já é maior que tudo  \\n  E não existem distâncias no meu novo mundo  \\n  A vontade de te ver já é maior que tudo  \\n  E não existem distâncias no meu novo mundo  \\n    \\n  Fiz essa canção pra dizer algumas coisas  \\n  Cuidado com o destino  \\n  Ele brinca com as pessoas  \\n  Tipo uma foto com sorriso inocente  \\n  Mas a vida tinha um plano e separou a gente  \\n    \\n  Mas se quem eu amo tem amor por mim  \\n  Se quem eu amo tem amor por mim  \\n  Eu sei que ainda estamos muito longe do fim  \\n    \\n  A vontade de te ver já é maior que tudo  \\n  E não existem distâncias no meu novo mundo  \\n  A vontade de te ver já é maior que tudo  \\n  E não existem distâncias no meu novo mundo  \\n  A vontade de te ver já é maior que tudo  \\n  E não existem distâncias no meu novo mundo  \\n  A vontade de te ver já é maior que tudo  \\n  E não existem distâncias no meu novo mundo',\n",
       "     'compositor': 'Compositores: Alexandre Magno Abrao (UBC), Thiago Raphael Castanho (ABRAMUS)',\n",
       "     'editor': 'Editores: Sony Music (UBC), Digital Grooves Records (ABRAMUS)',\n",
       "     'url': 'https://www.vagalume.com.br/charlie-brown-jr/meu-novo-mundo.html',\n",
       "     'administracao': 'Administração: Sony Music Publishing (UBC)',\n",
       "     'ano': 2013,\n",
       "     'extracao': '2025-06-03',\n",
       "     'extracao_mes': '2025-06',\n",
       "     'extracao_exata': '2025-06-03 12:00:00',\n",
       "     'genero': 'rock',\n",
       "     'pontuacao_letras': 4.5,\n",
       "     'pontuacao_vagalume': 4,\n",
       "     'url_letras': 'https://www.letras.mus.br/charlie-brown-jr/meu-novo-mundo/',\n",
       "     'comentarios': [{'autor': 'gal tropical',\n",
       "       'data': '2023-10-01T12:30:00',\n",
       "       'titulo': 'Tipo coisas da sétima arte',\n",
       "       'texto': 'Essa música é uma viagem no tempo, me faz lembrar de momentos incríveis com pessoas especiais. A letra é profunda e cheia de significado, como se cada verso fosse um pedaço da minha própria história. Charlie Brown Jr sempre soube como tocar o coração da gente.',\n",
       "       'ip_comentarista': '192.168.1.10'}],\n",
       "     'bytes_mp4': 'c29tZSBiaW5hcnkgZGF0YQ==',\n",
       "     'musica_tocada_radio': False}}]}}"
      ]
     },
     "execution_count": 11,
     "metadata": {},
     "output_type": "execute_result"
    }
   ],
   "source": [
    "response.body"
   ]
  },
  {
   "cell_type": "code",
   "execution_count": 12,
   "id": "47977d86",
   "metadata": {},
   "outputs": [],
   "source": [
    "#Pesquisando por autor.keyword\n",
    "search_query_keyword = {\n",
    "    \"query\": {\n",
    "        \"match\": {\n",
    "            \"autor.keyword\": \"Charlie\"\n",
    "        }\n",
    "    }\n",
    "}\n",
    "\n",
    "response_keyword = client.search(index=INDEX_MAPPING_MUSICA, body=search_query_keyword)"
   ]
  },
  {
   "cell_type": "code",
   "execution_count": 13,
   "id": "d002a47f",
   "metadata": {},
   "outputs": [
    {
     "data": {
      "text/plain": [
       "{'took': 11,\n",
       " 'timed_out': False,\n",
       " '_shards': {'total': 1, 'successful': 1, 'skipped': 0, 'failed': 0},\n",
       " 'hits': {'total': {'value': 0, 'relation': 'eq'},\n",
       "  'max_score': None,\n",
       "  'hits': []}}"
      ]
     },
     "execution_count": 13,
     "metadata": {},
     "output_type": "execute_result"
    }
   ],
   "source": [
    "response_keyword.body"
   ]
  },
  {
   "cell_type": "markdown",
   "id": "38dc504f",
   "metadata": {},
   "source": [
    "### Campo de data"
   ]
  },
  {
   "cell_type": "markdown",
   "id": "21581eca",
   "metadata": {},
   "source": [
    "Os campos relacionados a datas, como as chaves \"extracao\" e \"comentarios.data\", foram mapeados como tipo data (date). Isso ocorreu mesmo com \"extracao\" sendo originalmente um texto e \"comentarios.data\" do tipo datetime. Qualquer valor textual no formato 'yyyy-MM-dd' ou 'yyyy-MM' é automaticamente interpretado como uma data.\n",
    "\n",
    "Por outro lado, o campo \"ano\" não foi mapeado como data, mas sim como número.\n",
    "\n",
    "O mapeamento desses campos como datas permite realizar pesquisas com operadores como maior ou menor que uma data específica, ou mesmo filtrar por um dia exato. Veja o exemplo abaixo:"
   ]
  },
  {
   "cell_type": "code",
   "execution_count": 14,
   "id": "e247bbfa",
   "metadata": {},
   "outputs": [],
   "source": [
    "#Pesquisando por uma música com dia de extração específico\n",
    "search_query = {\n",
    "    \"query\": {\n",
    "        \"script\": {\n",
    "            \"script\": {\n",
    "                \"source\": \"doc['extracao'].value.dayOfMonth == 3\",\n",
    "                \"lang\": \"painless\"\n",
    "                }\n",
    "        }\n",
    "    }\n",
    "}\n",
    "\n",
    "response = client.search(index=INDEX_MAPPING_MUSICA, body=search_query)"
   ]
  },
  {
   "cell_type": "code",
   "execution_count": 15,
   "id": "069d1b4f",
   "metadata": {},
   "outputs": [
    {
     "data": {
      "text/plain": [
       "{'took': 962,\n",
       " 'timed_out': False,\n",
       " '_shards': {'total': 1, 'successful': 1, 'skipped': 0, 'failed': 0},\n",
       " 'hits': {'total': {'value': 1, 'relation': 'eq'},\n",
       "  'max_score': 1.0,\n",
       "  'hits': [{'_index': 'mapeamento_musica',\n",
       "    '_id': '4bOSS5cBUW64_IbYCx32',\n",
       "    '_score': 1.0,\n",
       "    '_ignored': ['comentarios.texto.keyword', 'letra.keyword'],\n",
       "    '_source': {'titulo': 'Meu Novo Mundo',\n",
       "     'autor': 'Charlie Brown Jr',\n",
       "     'letra': 'Como se o silêncio dissesse tudo  \\n  Um sentimento bom que me leva pra outro mundo  \\n  A vontade de te ver já é maior que tudo  \\n  Não existem distâncias no meu novo mundo  \\n    \\n  Tipo coisas da sétima arte  \\n  Aconteceu sem que eu imaginasse  \\n    \\n  Sonho de consumo cantar na sua festa  \\n  Vem dançar comigo  \\n  Aproveita e me sequestra  \\n  Amor vagabundo, intenso ou muita pressa  \\n  Não sei como termina mas sei como começa  \\n    \\n  Fiz essa canção pra dizer algumas coisas  \\n  Cuidado com o destino  \\n  Ele brinca com as pessoas  \\n  Tipo uma foto com sorriso inocente  \\n  Mas a vida tinha um plano e separou a gente  \\n    \\n  Mas se quem eu amo tem amor por mim  \\n  Se quem eu amo tem amor por mim  \\n  Eu sei que ainda estamos muito longe do fim  \\n    \\n  A vontade de te ver já é maior que tudo  \\n  E não existem distâncias no meu novo mundo  \\n  A vontade de te ver já é maior que tudo  \\n  E não existem distâncias no meu novo mundo  \\n  A vontade de te ver já é maior que tudo  \\n  E não existem distâncias no meu novo mundo  \\n  A vontade de te ver já é maior que tudo  \\n  E não existem distâncias no meu novo mundo  \\n    \\n  Fiz essa canção pra dizer algumas coisas  \\n  Cuidado com o destino  \\n  Ele brinca com as pessoas  \\n  Tipo uma foto com sorriso inocente  \\n  Mas a vida tinha um plano e separou a gente  \\n    \\n  Mas se quem eu amo tem amor por mim  \\n  Se quem eu amo tem amor por mim  \\n  Eu sei que ainda estamos muito longe do fim  \\n    \\n  A vontade de te ver já é maior que tudo  \\n  E não existem distâncias no meu novo mundo  \\n  A vontade de te ver já é maior que tudo  \\n  E não existem distâncias no meu novo mundo  \\n  A vontade de te ver já é maior que tudo  \\n  E não existem distâncias no meu novo mundo  \\n  A vontade de te ver já é maior que tudo  \\n  E não existem distâncias no meu novo mundo',\n",
       "     'compositor': 'Compositores: Alexandre Magno Abrao (UBC), Thiago Raphael Castanho (ABRAMUS)',\n",
       "     'editor': 'Editores: Sony Music (UBC), Digital Grooves Records (ABRAMUS)',\n",
       "     'url': 'https://www.vagalume.com.br/charlie-brown-jr/meu-novo-mundo.html',\n",
       "     'administracao': 'Administração: Sony Music Publishing (UBC)',\n",
       "     'ano': 2013,\n",
       "     'extracao': '2025-06-03',\n",
       "     'extracao_mes': '2025-06',\n",
       "     'extracao_exata': '2025-06-03 12:00:00',\n",
       "     'genero': 'rock',\n",
       "     'pontuacao_letras': 4.5,\n",
       "     'pontuacao_vagalume': 4,\n",
       "     'url_letras': 'https://www.letras.mus.br/charlie-brown-jr/meu-novo-mundo/',\n",
       "     'comentarios': [{'autor': 'gal tropical',\n",
       "       'data': '2023-10-01T12:30:00',\n",
       "       'titulo': 'Tipo coisas da sétima arte',\n",
       "       'texto': 'Essa música é uma viagem no tempo, me faz lembrar de momentos incríveis com pessoas especiais. A letra é profunda e cheia de significado, como se cada verso fosse um pedaço da minha própria história. Charlie Brown Jr sempre soube como tocar o coração da gente.',\n",
       "       'ip_comentarista': '192.168.1.10'}],\n",
       "     'bytes_mp4': 'c29tZSBiaW5hcnkgZGF0YQ==',\n",
       "     'musica_tocada_radio': False}}]}}"
      ]
     },
     "execution_count": 15,
     "metadata": {},
     "output_type": "execute_result"
    }
   ],
   "source": [
    "response.body"
   ]
  },
  {
   "cell_type": "markdown",
   "id": "37de00b5",
   "metadata": {},
   "source": [
    "### Campo de número"
   ]
  },
  {
   "cell_type": "markdown",
   "id": "6c168b44",
   "metadata": {},
   "source": [
    "Os campos \"ano\", \"pontuacao_letras\" e \"pontuacao_vagalume\" foram mapeados como número não inteiros (padrão do elastisearch)"
   ]
  },
  {
   "cell_type": "code",
   "execution_count": 16,
   "id": "e6808ae3",
   "metadata": {},
   "outputs": [
    {
     "data": {
      "text/plain": [
       "{'type': 'long'}"
      ]
     },
     "execution_count": 16,
     "metadata": {},
     "output_type": "execute_result"
    }
   ],
   "source": [
    "mapping_musica.body['mapeamento_musica']['mappings']['properties']['ano']"
   ]
  },
  {
   "cell_type": "markdown",
   "id": "524b45e1",
   "metadata": {},
   "source": [
    "## Mapeamento Manual"
   ]
  },
  {
   "cell_type": "markdown",
   "id": "e2553b2f",
   "metadata": {},
   "source": [
    "Muitas vezes, o mapeamento automático do **Elasticsearch** não é o mais adequado e pode causar problemas de desempenho à medida que o banco de dados cresce.\n",
    "\n",
    "Abaixo estão alguns problemas comuns ao deixar o mapeamento automático:\n",
    "\n",
    "1. **Uso ineficiente de recursos** ao mapear um campo de texto como *keyword* (palavra-chave) quando não se pretende realizar buscas exatas — por exemplo, o campo **\"letra\"**.\n",
    "\n",
    "2. **Mapeamento inadequado para buscas exatas**, ao tratar como texto campos onde a correspondência exata é mais relevante — como o campo **\"genero\"**.\n",
    "\n",
    "3. **Mapeamento incorreto de datas como números**, como ocorre com o campo **\"ano\"**.\n",
    "\n",
    "4. **Mapeamento incorreto de endereços IP**, resultando em perda de funcionalidade em consultas específicas para esse tipo de dado.\n",
    "\n",
    "\n",
    "O elastisearch permite criar o mapeamento antes que de carregar o primeiro objeto no indice, evitando assim que as chaves ja mapeadas não sejam interpretadas de forma diferença da informada"
   ]
  },
  {
   "cell_type": "code",
   "execution_count": 29,
   "id": "c7721cb6",
   "metadata": {},
   "outputs": [],
   "source": [
    "#Criando o mapeamento \n",
    "\n",
    "novo_mapeamento = {\n",
    "    \"properties\": {\n",
    "        \"titulo\": {\"type\": \"text\", \"fields\": {\"keyword\": {\"type\": \"keyword\"}}},\n",
    "        \"autor\": {\"type\": \"keyword\"},\n",
    "        \"letra\": {\"type\": \"text\"},\n",
    "        \"compositor\": {\"type\": \"keyword\"},\n",
    "        \"editor\": {\"type\": \"text\"},\n",
    "        \"url\": {\"type\": \"keyword\"},\n",
    "        \"administracao\": {\"type\": \"text\"},\n",
    "        \"ano\": {\"type\": \"date\", \"format\": \"yyyy\"}, #mapeando como data , no formato yyyy\n",
    "        \"extracao\": {\"type\": \"date\", \"format\": \"yyyy-MM-dd\"},\n",
    "        \"extracao_mes\": {\"type\": \"date\",\"format\": \"yyyy-MM\"}, #mapeando como data, no formato yyyy-MM\n",
    "        \"extracao_exata\": {\"type\": \"date\", \"format\": \"yyyy-MM-dd HH:mm:ss\"}, #mapeando como data, no formato yyyy-MM-dd HH:mm:ss\n",
    "        \"genero\": {\"type\": \"keyword\"},\n",
    "        \"pontuacao_letras\": {\"type\": \"float\"},\n",
    "        \"pontuacao_vagalume\": {\"type\": \"float\"},\n",
    "        \"url_letras\": {\"type\": \"keyword\"},\n",
    "        \"comentarios\": {\n",
    "            \"type\": \"nested\",\n",
    "            \"properties\": {\n",
    "                \"autor\": {\"type\": \"text\", \"fields\": {\"keyword\": {\"type\": \"keyword\"}}},\n",
    "                \"data\": {\"type\": \"date\"}, # mapeando como data, no formato ISO 8601\n",
    "                \"titulo\":{\"type\":\"text\",    \"fields\": {\"keyword\": {\"type\": \"keyword\"}}},\n",
    "                \"texto\":{\"type\":\"text\"},\n",
    "                \"ip_comentarista\":{\"type\":\"ip\"} # mapeando como IP\n",
    "            }\n",
    "        },\n",
    "        'bytes_mp4': {'type': 'binary'}, # mapeando como binário\n",
    "        'musica_tocada_radio': {'type': 'boolean','null_value':None} # mapeando como booleano, com valor padrão null\n",
    "    }\n",
    "}"
   ]
  },
  {
   "cell_type": "markdown",
   "id": "09bc1993",
   "metadata": {},
   "source": [
    "Vários campos de texto foram mapeados corretamente como **texto** ou **palavra-chave**, otimizando o uso de memória.\n",
    "\n",
    "O campo **\"ano\"** foi interpretado como um campo de data, porém restrito ao formato **\"yyyy\"** (somente o ano).\n",
    "\n",
    "Além disso:\n",
    "\n",
    "- O campo **\"bytes_mp4\"** foi mapeado como **binário**.\n",
    "- O campo **\"ip_comentarista\"** foi mapeado como tipo **IP**.\n",
    "- O campo **\"comentarios\"** foi mapeado como tipo **nested** (aninhado), o que permite consultas estruturadas dentro de arrays de objetos.\n",
    "\n",
    "Mais detalhes sobre esse mapeamento podem ser encontrados no notebook **[Mapeamento - JSON]**.\n"
   ]
  },
  {
   "cell_type": "code",
   "execution_count": 30,
   "id": "9c99c84d",
   "metadata": {},
   "outputs": [
    {
     "data": {
      "text/plain": [
       "ObjectApiResponse({'acknowledged': True, 'shards_acknowledged': True, 'index': 'novo_mapeamento_musica'})"
      ]
     },
     "execution_count": 30,
     "metadata": {},
     "output_type": "execute_result"
    }
   ],
   "source": [
    "NOVO_INDICE_MAPPING_MUSICA = 'novo_mapeamento_musica'\n",
    "if client.indices.exists(index=NOVO_INDICE_MAPPING_MUSICA):\n",
    "    client.indices.delete(index=NOVO_INDICE_MAPPING_MUSICA)\n",
    "client.indices.create(index=NOVO_INDICE_MAPPING_MUSICA, mappings=novo_mapeamento)"
   ]
  },
  {
   "cell_type": "code",
   "execution_count": 31,
   "id": "8ccbd969",
   "metadata": {},
   "outputs": [
    {
     "data": {
      "text/plain": [
       "ObjectApiResponse({'_index': 'novo_mapeamento_musica', '_id': '5bOTS5cBUW64_IbY3R09', '_version': 1, 'result': 'created', '_shards': {'total': 2, 'successful': 1, 'failed': 0}, '_seq_no': 0, '_primary_term': 1})"
      ]
     },
     "execution_count": 31,
     "metadata": {},
     "output_type": "execute_result"
    }
   ],
   "source": [
    "#Salvando novamente o objeto com o novo mapeamento\n",
    "client.index(index=NOVO_INDICE_MAPPING_MUSICA, document=letra_musica)"
   ]
  },
  {
   "cell_type": "code",
   "execution_count": 22,
   "id": "c489cc6f",
   "metadata": {},
   "outputs": [],
   "source": [
    "#verificando o novo mapeamento\n",
    "novo_mapping_musica = client.indices.get_mapping(index=NOVO_INDICE_MAPPING_MUSICA)"
   ]
  },
  {
   "cell_type": "code",
   "execution_count": 32,
   "id": "e8b5c837",
   "metadata": {},
   "outputs": [
    {
     "data": {
      "text/plain": [
       "{'novo_mapeamento_musica': {'mappings': {'properties': {'administracao': {'type': 'text'},\n",
       "    'ano': {'type': 'date', 'format': 'yyyy'},\n",
       "    'autor': {'type': 'keyword'},\n",
       "    'bytes_mp4': {'type': 'binary'},\n",
       "    'comentarios': {'type': 'nested',\n",
       "     'properties': {'autor': {'type': 'text',\n",
       "       'fields': {'keyword': {'type': 'keyword'}}},\n",
       "      'data': {'type': 'date', 'format': 'yyyy-MM-dd'},\n",
       "      'ip_comentarista': {'type': 'ip'},\n",
       "      'texto': {'type': 'text'},\n",
       "      'titulo': {'type': 'text', 'fields': {'keyword': {'type': 'keyword'}}}}},\n",
       "    'compositor': {'type': 'keyword'},\n",
       "    'editor': {'type': 'text'},\n",
       "    'extracao': {'type': 'date', 'format': 'yyyy-MM-dd'},\n",
       "    'extracao_exata': {'type': 'date', 'format': 'yyyy-MM-dd'},\n",
       "    'extracao_mes': {'type': 'date', 'format': 'yyyy-MM'},\n",
       "    'genero': {'type': 'keyword'},\n",
       "    'letra': {'type': 'text'},\n",
       "    'musica_tocada_radio': {'type': 'boolean'},\n",
       "    'pontuacao_letras': {'type': 'float'},\n",
       "    'pontuacao_vagalume': {'type': 'float'},\n",
       "    'titulo': {'type': 'text', 'fields': {'keyword': {'type': 'keyword'}}},\n",
       "    'url': {'type': 'keyword'},\n",
       "    'url_letras': {'type': 'keyword'}}}}}"
      ]
     },
     "execution_count": 32,
     "metadata": {},
     "output_type": "execute_result"
    }
   ],
   "source": [
    "novo_mapping_musica.body"
   ]
  },
  {
   "cell_type": "code",
   "execution_count": 33,
   "id": "304810df",
   "metadata": {},
   "outputs": [],
   "source": [
    "#Refazendo a pesquisa por autor\n",
    "search_query = {\n",
    "    \"query\": {\n",
    "        \"match\": {\n",
    "            \"autor\": \"Charlie\"\n",
    "        }\n",
    "    }\n",
    "}\n",
    "response = client.search(index=NOVO_INDICE_MAPPING_MUSICA, body=search_query)"
   ]
  },
  {
   "cell_type": "code",
   "execution_count": 34,
   "id": "9a529883",
   "metadata": {},
   "outputs": [
    {
     "data": {
      "text/plain": [
       "{'took': 5,\n",
       " 'timed_out': False,\n",
       " '_shards': {'total': 1, 'successful': 1, 'skipped': 0, 'failed': 0},\n",
       " 'hits': {'total': {'value': 0, 'relation': 'eq'},\n",
       "  'max_score': None,\n",
       "  'hits': []}}"
      ]
     },
     "execution_count": 34,
     "metadata": {},
     "output_type": "execute_result"
    }
   ],
   "source": [
    "response.body"
   ]
  },
  {
   "cell_type": "markdown",
   "id": "88453d47",
   "metadata": {},
   "source": [
    "Como o \"autor\" foi mapeado como palavra-chave (keyword), somente termo exato funcionará na pesquisa"
   ]
  },
  {
   "cell_type": "code",
   "execution_count": 37,
   "id": "f8686ba8",
   "metadata": {},
   "outputs": [],
   "source": [
    "#Refazendo a pesquisa por autor\n",
    "search_query_keyword = {\n",
    "    \"query\": {\n",
    "        \"match\": {\n",
    "            \"autor\": \"Charlie Brown Jr\"\n",
    "        }\n",
    "    }\n",
    "}   \n",
    "\n",
    "response = client.search(index=NOVO_INDICE_MAPPING_MUSICA, body=search_query_keyword)"
   ]
  },
  {
   "cell_type": "code",
   "execution_count": 38,
   "id": "802e0c81",
   "metadata": {},
   "outputs": [
    {
     "data": {
      "text/plain": [
       "{'took': 9,\n",
       " 'timed_out': False,\n",
       " '_shards': {'total': 1, 'successful': 1, 'skipped': 0, 'failed': 0},\n",
       " 'hits': {'total': {'value': 1, 'relation': 'eq'},\n",
       "  'max_score': 0.2876821,\n",
       "  'hits': [{'_index': 'novo_mapeamento_musica',\n",
       "    '_id': '5bOTS5cBUW64_IbY3R09',\n",
       "    '_score': 0.2876821,\n",
       "    '_source': {'titulo': 'Meu Novo Mundo',\n",
       "     'autor': 'Charlie Brown Jr',\n",
       "     'letra': 'Como se o silêncio dissesse tudo  \\n  Um sentimento bom que me leva pra outro mundo  \\n  A vontade de te ver já é maior que tudo  \\n  Não existem distâncias no meu novo mundo  \\n    \\n  Tipo coisas da sétima arte  \\n  Aconteceu sem que eu imaginasse  \\n    \\n  Sonho de consumo cantar na sua festa  \\n  Vem dançar comigo  \\n  Aproveita e me sequestra  \\n  Amor vagabundo, intenso ou muita pressa  \\n  Não sei como termina mas sei como começa  \\n    \\n  Fiz essa canção pra dizer algumas coisas  \\n  Cuidado com o destino  \\n  Ele brinca com as pessoas  \\n  Tipo uma foto com sorriso inocente  \\n  Mas a vida tinha um plano e separou a gente  \\n    \\n  Mas se quem eu amo tem amor por mim  \\n  Se quem eu amo tem amor por mim  \\n  Eu sei que ainda estamos muito longe do fim  \\n    \\n  A vontade de te ver já é maior que tudo  \\n  E não existem distâncias no meu novo mundo  \\n  A vontade de te ver já é maior que tudo  \\n  E não existem distâncias no meu novo mundo  \\n  A vontade de te ver já é maior que tudo  \\n  E não existem distâncias no meu novo mundo  \\n  A vontade de te ver já é maior que tudo  \\n  E não existem distâncias no meu novo mundo  \\n    \\n  Fiz essa canção pra dizer algumas coisas  \\n  Cuidado com o destino  \\n  Ele brinca com as pessoas  \\n  Tipo uma foto com sorriso inocente  \\n  Mas a vida tinha um plano e separou a gente  \\n    \\n  Mas se quem eu amo tem amor por mim  \\n  Se quem eu amo tem amor por mim  \\n  Eu sei que ainda estamos muito longe do fim  \\n    \\n  A vontade de te ver já é maior que tudo  \\n  E não existem distâncias no meu novo mundo  \\n  A vontade de te ver já é maior que tudo  \\n  E não existem distâncias no meu novo mundo  \\n  A vontade de te ver já é maior que tudo  \\n  E não existem distâncias no meu novo mundo  \\n  A vontade de te ver já é maior que tudo  \\n  E não existem distâncias no meu novo mundo',\n",
       "     'compositor': 'Compositores: Alexandre Magno Abrao (UBC), Thiago Raphael Castanho (ABRAMUS)',\n",
       "     'editor': 'Editores: Sony Music (UBC), Digital Grooves Records (ABRAMUS)',\n",
       "     'url': 'https://www.vagalume.com.br/charlie-brown-jr/meu-novo-mundo.html',\n",
       "     'administracao': 'Administração: Sony Music Publishing (UBC)',\n",
       "     'ano': 2013,\n",
       "     'extracao': '2025-06-03',\n",
       "     'extracao_mes': '2025-06',\n",
       "     'extracao_exata': '2025-06-03 12:00:00',\n",
       "     'genero': 'rock',\n",
       "     'pontuacao_letras': 4.5,\n",
       "     'pontuacao_vagalume': 4,\n",
       "     'url_letras': 'https://www.letras.mus.br/charlie-brown-jr/meu-novo-mundo/',\n",
       "     'comentarios': [{'autor': 'gal tropical',\n",
       "       'data': '2023-10-01T12:30:00',\n",
       "       'titulo': 'Tipo coisas da sétima arte',\n",
       "       'texto': 'Essa música é uma viagem no tempo, me faz lembrar de momentos incríveis com pessoas especiais. A letra é profunda e cheia de significado, como se cada verso fosse um pedaço da minha própria história. Charlie Brown Jr sempre soube como tocar o coração da gente.',\n",
       "       'ip_comentarista': '192.168.1.10'}],\n",
       "     'bytes_mp4': 'c29tZSBiaW5hcnkgZGF0YQ==',\n",
       "     'musica_tocada_radio': False}}]}}"
      ]
     },
     "execution_count": 38,
     "metadata": {},
     "output_type": "execute_result"
    }
   ],
   "source": [
    "response.body"
   ]
  },
  {
   "cell_type": "markdown",
   "id": "a8ba4f38",
   "metadata": {},
   "source": [
    "### Salvando um novo objeto\n",
    "\n",
    "Quando um novo objeto é salvo em um indice com mapeamento, o elastisearch valida a compartibilidade. \n",
    "Se o objeto tiver alguma chave incompatível , o objeto não é salvo"
   ]
  },
  {
   "cell_type": "code",
   "execution_count": 39,
   "id": "a20c5c8d",
   "metadata": {},
   "outputs": [
    {
     "ename": "BadRequestError",
     "evalue": "BadRequestError(400, 'mapper_parsing_exception', \"failed to parse field [ano] of type [date] in document with id '5rOYS5cBUW64_IbYZh0j'. Preview of field's value: '2025-06-03'\")",
     "output_type": "error",
     "traceback": [
      "\u001b[1;31m---------------------------------------------------------------------------\u001b[0m",
      "\u001b[1;31mBadRequestError\u001b[0m                           Traceback (most recent call last)",
      "Cell \u001b[1;32mIn[39], line 7\u001b[0m\n\u001b[0;32m      1\u001b[0m \u001b[38;5;66;03m#Tentando salvar um documento com o campo \"ano\" no formato errado\u001b[39;00m\n\u001b[0;32m      3\u001b[0m letra_musica_errada \u001b[38;5;241m=\u001b[39m {\n\u001b[0;32m      4\u001b[0m     \u001b[38;5;124m\"\u001b[39m\u001b[38;5;124mano\u001b[39m\u001b[38;5;124m\"\u001b[39m:\u001b[38;5;124m\"\u001b[39m\u001b[38;5;124m2025-06-03\u001b[39m\u001b[38;5;124m\"\u001b[39m,  \u001b[38;5;66;03m# Formato errado, deveria ser apenas o ano\u001b[39;00m\n\u001b[0;32m      5\u001b[0m }\n\u001b[1;32m----> 7\u001b[0m \u001b[43mclient\u001b[49m\u001b[38;5;241;43m.\u001b[39;49m\u001b[43mindex\u001b[49m\u001b[43m(\u001b[49m\u001b[43mindex\u001b[49m\u001b[38;5;241;43m=\u001b[39;49m\u001b[43mNOVO_INDICE_MAPPING_MUSICA\u001b[49m\u001b[43m,\u001b[49m\u001b[43m \u001b[49m\u001b[43mdocument\u001b[49m\u001b[38;5;241;43m=\u001b[39;49m\u001b[43mletra_musica_errada\u001b[49m\u001b[43m)\u001b[49m\n",
      "File \u001b[1;32mc:\\Python312\\Lib\\site-packages\\elasticsearch\\_sync\\client\\utils.py:455\u001b[0m, in \u001b[0;36m_rewrite_parameters.<locals>.wrapper.<locals>.wrapped\u001b[1;34m(*args, **kwargs)\u001b[0m\n\u001b[0;32m    452\u001b[0m         \u001b[38;5;28;01mexcept\u001b[39;00m \u001b[38;5;167;01mKeyError\u001b[39;00m:\n\u001b[0;32m    453\u001b[0m             \u001b[38;5;28;01mpass\u001b[39;00m\n\u001b[1;32m--> 455\u001b[0m \u001b[38;5;28;01mreturn\u001b[39;00m \u001b[43mapi\u001b[49m\u001b[43m(\u001b[49m\u001b[38;5;241;43m*\u001b[39;49m\u001b[43margs\u001b[49m\u001b[43m,\u001b[49m\u001b[43m \u001b[49m\u001b[38;5;241;43m*\u001b[39;49m\u001b[38;5;241;43m*\u001b[39;49m\u001b[43mkwargs\u001b[49m\u001b[43m)\u001b[49m\n",
      "File \u001b[1;32mc:\\Python312\\Lib\\site-packages\\elasticsearch\\_sync\\client\\__init__.py:2572\u001b[0m, in \u001b[0;36mElasticsearch.index\u001b[1;34m(self, index, document, body, id, error_trace, filter_path, human, if_primary_term, if_seq_no, op_type, pipeline, pretty, refresh, require_alias, routing, timeout, version, version_type, wait_for_active_shards)\u001b[0m\n\u001b[0;32m   2570\u001b[0m __body \u001b[38;5;241m=\u001b[39m document \u001b[38;5;28;01mif\u001b[39;00m document \u001b[38;5;129;01mis\u001b[39;00m \u001b[38;5;129;01mnot\u001b[39;00m \u001b[38;5;28;01mNone\u001b[39;00m \u001b[38;5;28;01melse\u001b[39;00m body\n\u001b[0;32m   2571\u001b[0m __headers \u001b[38;5;241m=\u001b[39m {\u001b[38;5;124m\"\u001b[39m\u001b[38;5;124maccept\u001b[39m\u001b[38;5;124m\"\u001b[39m: \u001b[38;5;124m\"\u001b[39m\u001b[38;5;124mapplication/json\u001b[39m\u001b[38;5;124m\"\u001b[39m, \u001b[38;5;124m\"\u001b[39m\u001b[38;5;124mcontent-type\u001b[39m\u001b[38;5;124m\"\u001b[39m: \u001b[38;5;124m\"\u001b[39m\u001b[38;5;124mapplication/json\u001b[39m\u001b[38;5;124m\"\u001b[39m}\n\u001b[1;32m-> 2572\u001b[0m \u001b[38;5;28;01mreturn\u001b[39;00m \u001b[38;5;28;43mself\u001b[39;49m\u001b[38;5;241;43m.\u001b[39;49m\u001b[43mperform_request\u001b[49m\u001b[43m(\u001b[49m\u001b[43m  \u001b[49m\u001b[38;5;66;43;03m# type: ignore[return-value]\u001b[39;49;00m\n\u001b[0;32m   2573\u001b[0m \u001b[43m    \u001b[49m\u001b[43m__method\u001b[49m\u001b[43m,\u001b[49m\n\u001b[0;32m   2574\u001b[0m \u001b[43m    \u001b[49m\u001b[43m__path\u001b[49m\u001b[43m,\u001b[49m\n\u001b[0;32m   2575\u001b[0m \u001b[43m    \u001b[49m\u001b[43mparams\u001b[49m\u001b[38;5;241;43m=\u001b[39;49m\u001b[43m__query\u001b[49m\u001b[43m,\u001b[49m\n\u001b[0;32m   2576\u001b[0m \u001b[43m    \u001b[49m\u001b[43mheaders\u001b[49m\u001b[38;5;241;43m=\u001b[39;49m\u001b[43m__headers\u001b[49m\u001b[43m,\u001b[49m\n\u001b[0;32m   2577\u001b[0m \u001b[43m    \u001b[49m\u001b[43mbody\u001b[49m\u001b[38;5;241;43m=\u001b[39;49m\u001b[43m__body\u001b[49m\u001b[43m,\u001b[49m\n\u001b[0;32m   2578\u001b[0m \u001b[43m    \u001b[49m\u001b[43mendpoint_id\u001b[49m\u001b[38;5;241;43m=\u001b[39;49m\u001b[38;5;124;43m\"\u001b[39;49m\u001b[38;5;124;43mindex\u001b[39;49m\u001b[38;5;124;43m\"\u001b[39;49m\u001b[43m,\u001b[49m\n\u001b[0;32m   2579\u001b[0m \u001b[43m    \u001b[49m\u001b[43mpath_parts\u001b[49m\u001b[38;5;241;43m=\u001b[39;49m\u001b[43m__path_parts\u001b[49m\u001b[43m,\u001b[49m\n\u001b[0;32m   2580\u001b[0m \u001b[43m\u001b[49m\u001b[43m)\u001b[49m\n",
      "File \u001b[1;32mc:\\Python312\\Lib\\site-packages\\elasticsearch\\_sync\\client\\_base.py:271\u001b[0m, in \u001b[0;36mBaseClient.perform_request\u001b[1;34m(self, method, path, params, headers, body, endpoint_id, path_parts)\u001b[0m\n\u001b[0;32m    255\u001b[0m \u001b[38;5;28;01mdef\u001b[39;00m \u001b[38;5;21mperform_request\u001b[39m(\n\u001b[0;32m    256\u001b[0m     \u001b[38;5;28mself\u001b[39m,\n\u001b[0;32m    257\u001b[0m     method: \u001b[38;5;28mstr\u001b[39m,\n\u001b[1;32m   (...)\u001b[0m\n\u001b[0;32m    264\u001b[0m     path_parts: Optional[Mapping[\u001b[38;5;28mstr\u001b[39m, Any]] \u001b[38;5;241m=\u001b[39m \u001b[38;5;28;01mNone\u001b[39;00m,\n\u001b[0;32m    265\u001b[0m ) \u001b[38;5;241m-\u001b[39m\u001b[38;5;241m>\u001b[39m ApiResponse[Any]:\n\u001b[0;32m    266\u001b[0m     \u001b[38;5;28;01mwith\u001b[39;00m \u001b[38;5;28mself\u001b[39m\u001b[38;5;241m.\u001b[39m_otel\u001b[38;5;241m.\u001b[39mspan(\n\u001b[0;32m    267\u001b[0m         method,\n\u001b[0;32m    268\u001b[0m         endpoint_id\u001b[38;5;241m=\u001b[39mendpoint_id,\n\u001b[0;32m    269\u001b[0m         path_parts\u001b[38;5;241m=\u001b[39mpath_parts \u001b[38;5;129;01mor\u001b[39;00m {},\n\u001b[0;32m    270\u001b[0m     ) \u001b[38;5;28;01mas\u001b[39;00m otel_span:\n\u001b[1;32m--> 271\u001b[0m         response \u001b[38;5;241m=\u001b[39m \u001b[38;5;28;43mself\u001b[39;49m\u001b[38;5;241;43m.\u001b[39;49m\u001b[43m_perform_request\u001b[49m\u001b[43m(\u001b[49m\n\u001b[0;32m    272\u001b[0m \u001b[43m            \u001b[49m\u001b[43mmethod\u001b[49m\u001b[43m,\u001b[49m\n\u001b[0;32m    273\u001b[0m \u001b[43m            \u001b[49m\u001b[43mpath\u001b[49m\u001b[43m,\u001b[49m\n\u001b[0;32m    274\u001b[0m \u001b[43m            \u001b[49m\u001b[43mparams\u001b[49m\u001b[38;5;241;43m=\u001b[39;49m\u001b[43mparams\u001b[49m\u001b[43m,\u001b[49m\n\u001b[0;32m    275\u001b[0m \u001b[43m            \u001b[49m\u001b[43mheaders\u001b[49m\u001b[38;5;241;43m=\u001b[39;49m\u001b[43mheaders\u001b[49m\u001b[43m,\u001b[49m\n\u001b[0;32m    276\u001b[0m \u001b[43m            \u001b[49m\u001b[43mbody\u001b[49m\u001b[38;5;241;43m=\u001b[39;49m\u001b[43mbody\u001b[49m\u001b[43m,\u001b[49m\n\u001b[0;32m    277\u001b[0m \u001b[43m            \u001b[49m\u001b[43motel_span\u001b[49m\u001b[38;5;241;43m=\u001b[39;49m\u001b[43motel_span\u001b[49m\u001b[43m,\u001b[49m\n\u001b[0;32m    278\u001b[0m \u001b[43m        \u001b[49m\u001b[43m)\u001b[49m\n\u001b[0;32m    279\u001b[0m         otel_span\u001b[38;5;241m.\u001b[39mset_elastic_cloud_metadata(response\u001b[38;5;241m.\u001b[39mmeta\u001b[38;5;241m.\u001b[39mheaders)\n\u001b[0;32m    280\u001b[0m         \u001b[38;5;28;01mreturn\u001b[39;00m response\n",
      "File \u001b[1;32mc:\\Python312\\Lib\\site-packages\\elasticsearch\\_sync\\client\\_base.py:352\u001b[0m, in \u001b[0;36mBaseClient._perform_request\u001b[1;34m(self, method, path, params, headers, body, otel_span)\u001b[0m\n\u001b[0;32m    349\u001b[0m         \u001b[38;5;28;01mexcept\u001b[39;00m (\u001b[38;5;167;01mValueError\u001b[39;00m, \u001b[38;5;167;01mKeyError\u001b[39;00m, \u001b[38;5;167;01mTypeError\u001b[39;00m):\n\u001b[0;32m    350\u001b[0m             \u001b[38;5;28;01mpass\u001b[39;00m\n\u001b[1;32m--> 352\u001b[0m     \u001b[38;5;28;01mraise\u001b[39;00m HTTP_EXCEPTIONS\u001b[38;5;241m.\u001b[39mget(meta\u001b[38;5;241m.\u001b[39mstatus, ApiError)(\n\u001b[0;32m    353\u001b[0m         message\u001b[38;5;241m=\u001b[39mmessage, meta\u001b[38;5;241m=\u001b[39mmeta, body\u001b[38;5;241m=\u001b[39mresp_body\n\u001b[0;32m    354\u001b[0m     )\n\u001b[0;32m    356\u001b[0m \u001b[38;5;66;03m# 'X-Elastic-Product: Elasticsearch' should be on every 2XX response.\u001b[39;00m\n\u001b[0;32m    357\u001b[0m \u001b[38;5;28;01mif\u001b[39;00m \u001b[38;5;129;01mnot\u001b[39;00m \u001b[38;5;28mself\u001b[39m\u001b[38;5;241m.\u001b[39m_verified_elasticsearch:\n\u001b[0;32m    358\u001b[0m     \u001b[38;5;66;03m# If the header is set we mark the server as verified.\u001b[39;00m\n",
      "\u001b[1;31mBadRequestError\u001b[0m: BadRequestError(400, 'mapper_parsing_exception', \"failed to parse field [ano] of type [date] in document with id '5rOYS5cBUW64_IbYZh0j'. Preview of field's value: '2025-06-03'\")"
     ]
    }
   ],
   "source": [
    "#Tentando salvar um documento com o campo \"ano\" no formato errado\n",
    "\n",
    "letra_musica_errada = {\n",
    "    \"ano\":\"2025-06-03\",  # Formato errado, deveria ser apenas o ano\n",
    "}\n",
    "\n",
    "client.index(index=NOVO_INDICE_MAPPING_MUSICA, document=letra_musica_errada)"
   ]
  },
  {
   "cell_type": "code",
   "execution_count": null,
   "id": "8940f837",
   "metadata": {},
   "outputs": [],
   "source": []
  }
 ],
 "metadata": {
  "kernelspec": {
   "display_name": "Python 3",
   "language": "python",
   "name": "python3"
  },
  "language_info": {
   "codemirror_mode": {
    "name": "ipython",
    "version": 3
   },
   "file_extension": ".py",
   "mimetype": "text/x-python",
   "name": "python",
   "nbconvert_exporter": "python",
   "pygments_lexer": "ipython3",
   "version": "3.12.0"
  }
 },
 "nbformat": 4,
 "nbformat_minor": 5
}
