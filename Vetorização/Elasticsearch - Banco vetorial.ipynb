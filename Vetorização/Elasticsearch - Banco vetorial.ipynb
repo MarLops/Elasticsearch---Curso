{
 "cells": [
  {
   "cell_type": "markdown",
   "id": "852feb2c",
   "metadata": {},
   "source": [
    "## Busca Vetorial com Elasticsearch\n",
    "\n",
    "Uma das novas funcionalidades do **Elasticsearch** é a capacidade de operar com **vetores**, funcionando como um **banco vetorial**. Essa funcionalidade ganhou destaque com o aumento da utilização de **transformers**, redes neurais capazes de representar um texto como um vetor numérico.\n",
    "\n",
    "Essa nova forma de representar textos permite identificar conteúdos com **significados semelhantes**, mesmo quando são utilizadas **palavras diferentes** — algo que algoritmos tradicionais, como **TF-IDF** e **Okapi BM25**, não conseguem fazer com a mesma eficiência.\n",
    "\n",
    "Neste notebook, iremos:\n",
    "- **Salvar os vetores das frases**, e\n",
    "- **Realizar buscas utilizando o vetor da frase de consulta**.\n",
    "\n",
    "Para gerar os vetores das frases, será utilizado  o modelo [BAAI/bge-m3](https://huggingface.co/BAAI/bge-m3) que gera um vetor de 1024 dimensao"
   ]
  },
  {
   "cell_type": "code",
   "execution_count": null,
   "id": "095cef4f",
   "metadata": {},
   "outputs": [],
   "source": [
    "#O texto abaixo é a letra de uma música\n",
    "\n",
    "letra = \"Era um cômodo, incômodo, sujo como dragão de komodo  \\n  Úmido, eu homem da casa aos seis anos  \\n  Mofo no canto, todo, Tv, engodo, pronto pro lodo  \\n  Tímido, porra, somos reis, mano  \\n  Olhos são eletrodos, sério, topo, trombo corvos  \\n  Num cemitério de sonhos, graças a leis, planos  \\n  Troco de jogo, vendo roubos, pus a cabeça a prêmio  \\n  Ingênuo, colhi sorrisos e falei -- vamos!  \\n  É um novo tempo, momento pro novo, ao sabor do vento  \\n  Me movo pelo solo onde reinamos  \\n  Pondo pontos finais na dor, como doril, anador  \\n  Somos a luz do senhor, pode crer, tamo  \\n  Construindo, suponho não, creio, meto a mão  \\n  Em meio à escuridão, pronto, acertamos  \\n  Nosso sorriso sereno hoje é o veneno  \\n  Pra quem trouxe tanto ódio pr'onde deitamos  \\n    \\n  Quem costuma vir de onde eu sou  \\n  Às vezes não tem motivos pra  \\n  Seguir  \\n  Então levanta e anda, vai  \\n  Levanta e anda, vai  \\n  Levanta e anda  \\n  Mas eu sei que vai, que o sonho te traz  \\n  Coisas que te faz  \\n  Prosseguir  \\n  Vai, levanta e anda, vai  \\n  Levanta e anda, vai  \\n  Levanta e anda, vai  \\n  Levanta e anda, vai  \\n    \\n  Irmão, você não percebeu que você  \\n  É o único representante do seu sonho na face da Terra?  \\n  Se isso não fizer você correr, chapa  \\n  Eu não sei o que vai  \\n    \\n  Eu sei, sei, cansa  \\n  Quem morre ao fim do mês  \\n  Nossa grana ou nossa esperança?  \\n  Delírio é  \\n  Equilíbrio entre nosso martírio e nossa fé  \\n  Foi foda contar migalha nos escombros  \\n  Lona preta esticada, enxada no ombro e nada vim  \\n  Nada enfim, recria  \\n  Sozim, com alma cheia de mágoa e as panela vazia  \\n  Sonho imundo  \\n  Só água na geladeira e eu querendo salvar o mundo  \\n  No fundo é tipo David Blaine, mãe assume, pai some  \\n  De costume, no máximo é um sobrenome  \\n  Sou terror dos clone  \\n  Esses boy conhece Marx, nóiz conhece a fome  \\n  Então cerre os punhos, sorria  \\n  E jamais volte pra sua quebrada de mão e mente vazia  \\n    \\n  Quem costuma vir de onde eu sou  \\n  Às vezes não tem motivos pra  \\n  Seguir  \\n  Então levanta e anda, vai  \\n  Levanta e anda, vai  \\n  Levanta e anda  \\n  Mas eu sei que vai, que o sonho te traz  \\n  Coisas que te faz  \\n  Prosseguir  \\n  Então levanta e anda, vai  \\n  Levanta e anda, vai  \\n  Levanta e anda, vai  \\n  Levanta e anda  \\n    \\n  Somos maior, nos basta só  \\n  Sonhar, seguir!\"\n",
    "\n",
    "\n",
    "sentencas = letra.split(\"\\n\")\n",
    "sentencas = [sentenca.strip() for sentenca in sentencas]"
   ]
  },
  {
   "cell_type": "code",
   "execution_count": null,
   "id": "07c30da6",
   "metadata": {},
   "outputs": [],
   "source": [
    "# Criando um indice. Neste caso, é necessário configurar o mapeamento\n",
    "\n",
    "\n",
    "# Criando o conector com elasticsearch\n",
    "# Modificar a variável PASSWORD para a senha configurado no .env\n",
    "from elasticsearch import Elasticsearch\n",
    "\n",
    "HOST = 'http://localhost:9200'\n",
    "USERNAME = 'elastic'\n",
    "PASSWORD = 'test10'\n",
    "\n",
    "client = Elasticsearch(\n",
    "    HOST,\n",
    "    basic_auth=(USERNAME,PASSWORD)\n",
    ")\n",
    "\n"
   ]
  },
  {
   "cell_type": "code",
   "execution_count": null,
   "id": "4e890ad0",
   "metadata": {},
   "outputs": [],
   "source": [
    "\n",
    "mapping = mappings = {\n",
    "    \"properties\":{\n",
    "        \"vetor_sentenca\":{\n",
    "            \"type\":\"dense_vector\",\n",
    "            \"dims\":1024, #dimensao \n",
    "            \"similarity\":\"cosine\", #algoritmo de similaridade\n",
    "            \"index\":True\n",
    "        },\n",
    "        \"sentenca\":{\n",
    "            \"type\":\"text\"\n",
    "        }\n",
    "    }\n",
    "}"
   ]
  },
  {
   "cell_type": "code",
   "execution_count": null,
   "id": "021221d1",
   "metadata": {},
   "outputs": [],
   "source": [
    "INDEX_LETRA_DENSE = 'vetor_letra_sentenca'"
   ]
  },
  {
   "cell_type": "code",
   "execution_count": null,
   "id": "7daf5e6b",
   "metadata": {},
   "outputs": [],
   "source": [
    "#criando o indice\n",
    "if client.indices.exists(index=INDEX_LETRA_DENSE):\n",
    "    client.indices.delete(index=INDEX_LETRA_DENSE)\n",
    "client.indices.create(index=INDEX_LETRA_DENSE, body={\"mappings\":mappings})"
   ]
  },
  {
   "cell_type": "code",
   "execution_count": null,
   "id": "0712c1b4",
   "metadata": {},
   "outputs": [],
   "source": [
    "#Para utilizar o modelo de linguagem, é necessário instalar a biblioteca sentence-transformers \n",
    "#pip install sentence-transformers\n",
    "from sentence_transformers import SentenceTransformer   \n",
    "\n"
   ]
  },
  {
   "cell_type": "code",
   "execution_count": null,
   "id": "40d82a00",
   "metadata": {},
   "outputs": [],
   "source": [
    "#Carregando o modelo de linguagem  - Pode demorar um pouco pois o modelo é grande\n",
    "model = SentenceTransformer('BAAI/bge-m3')"
   ]
  },
  {
   "cell_type": "code",
   "execution_count": null,
   "id": "92802a6e",
   "metadata": {},
   "outputs": [],
   "source": [
    "#mostrando como o modelo representa uma sentença\n",
    "sentencas_vetores = list()\n",
    "for sentenca in sentencas:\n",
    "    vetor_sentenca = model.encode(sentenca).tolist()  # Convertendo para lista\n",
    "    doc = {\n",
    "        \"vetor_sentenca\": vetor_sentenca,\n",
    "        \"sentenca\": sentenca\n",
    "    }\n",
    "    sentencas_vetores.append(doc)\n"
   ]
  },
  {
   "cell_type": "code",
   "execution_count": null,
   "id": "6788c067",
   "metadata": {},
   "outputs": [],
   "source": [
    "print(f\"Mostrando a sentença: {sentencas_vetores[0]['sentenca']} \\n\")\n",
    "print(f\"Mostrando o vetor correspondente: {sentencas_vetores[0]['vetor_sentenca']}\")"
   ]
  },
  {
   "cell_type": "code",
   "execution_count": null,
   "id": "b8721041",
   "metadata": {},
   "outputs": [],
   "source": [
    "#Inserindo os vetores no índice\n",
    "for doc in sentencas_vetores:\n",
    "    client.index(index=INDEX_LETRA_DENSE, body=doc)"
   ]
  },
  {
   "cell_type": "code",
   "execution_count": null,
   "id": "952bf03d",
   "metadata": {},
   "outputs": [],
   "source": [
    "#Pesquisando a sentença mais similar\n",
    "query_sentenca = \"Quem falece no termino\"\n",
    "\n"
   ]
  },
  {
   "cell_type": "markdown",
   "id": "bb71460f",
   "metadata": {},
   "source": [
    "Essa sentença foi escolhida pois não existe a palavra \"falece\" ou \"termino\" e tem mais de um texto com a palavra \"quem\" "
   ]
  },
  {
   "cell_type": "code",
   "execution_count": null,
   "id": "27837c77",
   "metadata": {},
   "outputs": [],
   "source": [
    "#Pesquisa termos semelhantes a query usando o modelo tradicional do elastisearch\n",
    "query = {\n",
    "    \"query\": {\n",
    "        \"match\": {\n",
    "            \"sentenca\": query_sentenca\n",
    "        }\n",
    "    }\n",
    "}\n",
    "\n",
    "response = client.search(index=INDEX_LETRA_DENSE, body=query)"
   ]
  },
  {
   "cell_type": "code",
   "execution_count": null,
   "id": "84a37c59",
   "metadata": {},
   "outputs": [],
   "source": [
    "response.body"
   ]
  },
  {
   "cell_type": "code",
   "execution_count": null,
   "id": "4e245b5b",
   "metadata": {},
   "outputs": [],
   "source": [
    "#Criando a pesquisa com o modelo de linguagem e pesquisando vetor semelhante\n",
    "query_vector = model.encode(query_sentenca)"
   ]
  },
  {
   "cell_type": "code",
   "execution_count": null,
   "id": "67aa571e",
   "metadata": {},
   "outputs": [],
   "source": [
    "#Pesquisa de similaridade\n",
    "query_vector = model.encode(query_sentenca)\n",
    "query = {\n",
    "    \"query\": {\n",
    "        \"knn\": {\n",
    "            \"vetor_sentenca\": {\n",
    "                \"vector\": query_vector,\n",
    "                \"k\": 5,  # Número de resultados a serem retornados\n",
    "                \"num_candidates\": 100  # Número de candidatos para considerar\n",
    "            }\n",
    "        }\n",
    "    }\n",
    "}\n",
    "\n",
    "response = client.search(index=INDEX_LETRA_DENSE, body=query)"
   ]
  },
  {
   "cell_type": "code",
   "execution_count": null,
   "id": "084ab947",
   "metadata": {},
   "outputs": [],
   "source": [
    "response.body"
   ]
  },
  {
   "cell_type": "markdown",
   "id": "68165b9e",
   "metadata": {},
   "source": []
  }
 ],
 "metadata": {
  "kernelspec": {
   "display_name": "Python 3",
   "language": "python",
   "name": "python3"
  },
  "language_info": {
   "name": "python",
   "version": "3.12.0"
  }
 },
 "nbformat": 4,
 "nbformat_minor": 5
}
