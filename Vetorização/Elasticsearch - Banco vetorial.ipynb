{
 "cells": [
  {
   "cell_type": "markdown",
   "id": "852feb2c",
   "metadata": {},
   "source": [
    "# Banco vetorial\n",
    "\n",
    "Uma das novas funcionalidades do elastisearch é operar em vetores, como banco vetorias. Neste "
   ]
  }
 ],
 "metadata": {
  "language_info": {
   "name": "python"
  }
 },
 "nbformat": 4,
 "nbformat_minor": 5
}
