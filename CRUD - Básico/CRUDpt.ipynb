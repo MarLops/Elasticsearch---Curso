{
 "cells": [
  {
   "cell_type": "markdown",
   "id": "7126439b",
   "metadata": {},
   "source": [
    "# CRUD (criar, ler, atualizar e deletar)"
   ]
  },
  {
   "cell_type": "markdown",
   "id": "8d97b346",
   "metadata": {},
   "source": [
    "Neste notebook, vamos explorar como realizar as operações básicas de **criação, leitura, atualização e exclusão (CRUD)** de documentos no Elasticsearch.\n",
    "\n",
    "Inicialmente, utilizaremos a biblioteca [elasticsearch](https://elasticsearch-py.readthedocs.io/en/v9.0.1/), considerada uma biblioteca de **baixo nível**, na qual é necessário configurar diretamente as requisições e conexões com o servidor.\n",
    "\n",
    "Em seguida, repetiremos os mesmos exemplos usando a biblioteca [elasticsearch-dsl](https://elasticsearch-dsl.readthedocs.io/en/latest/), uma **abstração de alto nível** que oferece uma interface mais expressiva e \"pythônica\" para trabalhar."
   ]
  },
  {
   "cell_type": "markdown",
   "id": "5fab955d",
   "metadata": {},
   "source": [
    "Para ilustrar de forma prática como fazer as operações, será utilizado 3 dicionários que representarão 3 músicas"
   ]
  },
  {
   "cell_type": "code",
   "execution_count": null,
   "id": "fbfd4eb9",
   "metadata": {},
   "outputs": [],
   "source": [
    "levanta_anda = {\n",
    "    \"artista\": \"Emicida\",\n",
    "    \"nome\": \"Levanta e Anda\",\n",
    "    \"ano\": 2014,\n",
    "    \"letra\": \"\"\"\n",
    "    Era um cômodo incômodo\n",
    "    Sujo como o dragão-de-komodo, úmido\n",
    "    Eu, homem da casa aos seis anos\n",
    "    Mofo no canto todo, TV, engodo, pronto pro lodo\n",
    "    Tímido, porra, somos reis, mano\n",
    "    Olhos são eletrodos, sério, topo, trombo corvos\n",
    "    Num cemitério de sonhos graças a leis, planos\n",
    "    Troco de jogo, vendo, roubo\n",
    "    Pus a cabeça a prêmio, ingênuo\n",
    "    Colhi sorrisos e falei: Vamos\n",
    "    É um novo tempo, momento pro novo, ao sabor do vento\n",
    "    Eu me movo pelo solo onde reinamos\n",
    "    Pondo pontos finais na dor como Doril, Anador\n",
    "    Somos a luz do Senhor e pode crer\n",
    "    Tamo construindo, suponho, não, creio, meto a mão\n",
    "    Em meio à escuridão, pronto, acertamos\n",
    "    Nosso sorriso sereno hoje é o veneno\n",
    "    Pra quem trouxe tanto ódio pra onde deitamos\n",
    "\n",
    "    Quem costuma vir de onde eu sou\n",
    "    Às vezes não tem motivos pra seguir\n",
    "    Então levanta e anda\n",
    "    Vai, levanta e anda\n",
    "    Vai, levanta e anda\n",
    "    Mas eu sei que vai\n",
    "    Que o sonho te traz coisas que te faz prosseguir\n",
    "    Vai, levanta e anda\n",
    "    Vai, levanta e anda\n",
    "    Vai, levanta e anda\n",
    "    Vai, levanta e anda\n",
    "\n",
    "    Irmão\n",
    "    Você não percebeu que você é o único representante do seu sonho na face da Terra?\n",
    "    Se isso não fizer você correr, chapa\n",
    "    Eu não sei o que vai\n",
    "\n",
    "    Eu sei (sei)\n",
    "    Cansa\n",
    "    Quem morre ao fim do mês\n",
    "    Nossa grana ou nossa esperança?\n",
    "    Delírio é\n",
    "    Equilíbrio\n",
    "    Entre nosso martírio e nossa fé\n",
    "    Foi foda contar migalha nos escombro\n",
    "    Lona preta esticadas, enxada no ombro, e nada vim\n",
    "    Nada, enfim, recria sozinho\n",
    "    Com a alma cheia de mágoa e as panela vazia\n",
    "    Sonho imundo\n",
    "    Só água na geladeira e eu querendo salvar o mundo\n",
    "    No fundo, é tipo David Blaine\n",
    "    A mãe assume, o pai some, de costume\n",
    "    No máximo é um sobrenome\n",
    "    Sou o terror dos clone\n",
    "    Esses boy conhece Marx, nós conhece a fome\n",
    "    Então cerra os punho, sorria\n",
    "    E jamais volte pra sua quebrada de mão e mente vazia\n",
    "\n",
    "    Quem costuma vir de onde eu sou\n",
    "    Às vezes não tem motivos pra seguir\n",
    "    Então levanta e anda\n",
    "    Vai, levanta e anda\n",
    "    Vai, levanta e anda\n",
    "    Mas eu sei que vai\n",
    "    Que o sonho te traz coisas que te faz prosseguir\n",
    "    Então levanta e anda\n",
    "    Vai, levanta e anda\n",
    "    Vai, levanta e anda\n",
    "    Vai, levanta e anda\n",
    "\n",
    "    Somos maior\n",
    "    Nos basta só\n",
    "    Sonhar, seguir\"\"\"\n",
    "}\n",
    "\n",
    "hoje_cedo = {\n",
    "    \"artista\": \"Emicida\",\n",
    "    \"nome\": \"Hoje é cedo\",\n",
    "    \"ano\": 2013,\n",
    "    \"letra\":\"\"\"\n",
    "    Hoje cedo\n",
    "    Quando eu acordei e não te vi\n",
    "    Eu pensei em tanta coisa\n",
    "    Tive medo\n",
    "    Ah, como eu chorei\n",
    "    Eu sofri em segredo\n",
    "    Tudo isso hoje cedo\n",
    "    Holofotes fortes, purpurina\n",
    "    E o sorriso dessas mina só me lembra cocaína\n",
    "    Em cinco abrem-se cortinas\n",
    "    Estáticas retinas brilham, garoa fina\n",
    "    Que fita, meus poema me trouxe onde eles não habita\n",
    "    A fama irrita, a grana dita, 'cê desacredita?\n",
    "    Fantoches, pique Celso Pitta mentem\n",
    "    Mortos tipo meu pai, nem eu me sinto presente\n",
    "    Aí, é rima que cês quer, toma, duas, três\n",
    "    Farta pra infartar cada um de vocês\n",
    "    Num abismo sem volta, de festa, ladainha\n",
    "    Minha alma afunda igual minha família em casa, sozinha\n",
    "    Entre putas como um cafetão, coisas que afetam\n",
    "    Sintonia, como eu sonhei em tá aqui um dia?\n",
    "    Crise, trampo, ideologia, pause\n",
    "    E é aqui onde nóis entende a Amy Winehouse\n",
    "    Hoje cedo\n",
    "    Quando eu acordei e não te vi\n",
    "    Eu pensei em tanta coisa\n",
    "    Tive medo\n",
    "    Ah, como eu chorei\n",
    "    Eu sofri em segredo\n",
    "    Tudo isso hoje cedo\n",
    "    Vagabundo, a trilha\n",
    "    É um precipício, penso o melhor\n",
    "    Quero salvar o mundo, pois desisti da minha família\n",
    "    E numa luta mais difícil a frustração vai ser menor\n",
    "    Digno de dó, só o pó, vazio, comum\n",
    "    Que já é moda no século XXI\n",
    "    Blacks com voz sagaz gravada\n",
    "    Contra vilões que sangram a quebrada\n",
    "    Só que raps por nóiz, por paz, mais nada\n",
    "    Me pôs nas Gerais, numa cela trancada\n",
    "    Eu lembrei do Racionais, reflexão\n",
    "    Aí, \"os próprio preto num 'tá nem aí com isso, não\"\n",
    "    É um clichê romântico, triste\n",
    "    Vai perceber, vai ver, se matou e o paraíso não existe\n",
    "    Eu ainda sou o Emicida da Rinha\n",
    "    Lotei casas do Sul ao Norte,\n",
    "    Mas esvaziei a minha\n",
    "    E vou por aí, Taliban\n",
    "    Vendo os boy beber dois mês de salário da minha irmã\n",
    "    Hennessys, avelãs, camarins, fãs, globais\n",
    "    Mano, onde eles tavam há dez anos atrás?\n",
    "    Showbiz como a regra diz, lek\n",
    "    A sociedade vende Jesus, por que não ia vender rap?\n",
    "    O mundo vai se ocupar com seu cifrão\n",
    "    Dizendo que a miséria é quem carecia de atenção\n",
    "    Hoje cedo\n",
    "    Quando eu acordei e não te vi\n",
    "    Eu pensei em tanta coisa\n",
    "    Tive medo\n",
    "    Ah, como eu chorei\n",
    "    Eu sofri em segredo\n",
    "    Tudo isso hoje cedo\n",
    "    \"\"\"\n",
    "}\n",
    "\n",
    "\n",
    "dias_gloria = {\n",
    "    \"artista\": \"Charlie Brown Jr.\",\n",
    "    \"nome\": \"Dias de luta, dias de gloria\",\n",
    "    \"ano\": 2013,\n",
    "    \"letra\":\"\"\"\n",
    "    Dias De Luta, Dias De Glória\n",
    "    (Canta comigo meu povo)\n",
    "    Na minha vida tudo acontece\n",
    "    Mas quanto mais a gente rala, mais a gente cresce\n",
    "    Hoje estou feliz porque eu sonhei com você\n",
    "    E amanhã posso chorar por não poder te ver\n",
    "    Mas o seu sorriso vale mais que um diamante\n",
    "    Se você vier comigo, aí nós vamos adiante\n",
    "    Com a cabeça erguida e mantendo a fé em Deus\n",
    "    O seu dia mais feliz vai ser o mesmo que o meu\n",
    "    A vida me ensinou a nunca desistir\n",
    "    Nem ganhar, nem perder mas procurar evoluir\n",
    "    Podem me tirar tudo que tenho\n",
    "    Só não podem me tirar as coisas boas que eu já fiz pra quem eu amo\n",
    "    E eu sou feliz e canto e o universo é uma canção\n",
    "    E eu vou que vou\n",
    "    História, nossas histórias\n",
    "    Dias de luta, dias de glória\n",
    "    História, nossas histórias\n",
    "    Dias de luta, dias de glória\n",
    "    História, nossas histórias\n",
    "    Dias de luta, dias de glória\n",
    "    História, nossas histórias\n",
    "    Dias de luta, dias de glória\n",
    "    Oh minha gata, morada dos meus sonhos\n",
    "    Todo dia, se pudesse eu ia estar com você\n",
    "    Eu já te via muito antes nos meus sonhos\n",
    "    Eu procurei a vida inteira por alguém como você\n",
    "    Por isso eu canto a minha vida com orgulho\n",
    "    Com melodia, alegria e barulho\n",
    "    Eu sou feliz e rodo pelo mundo\n",
    "    Eu sou correria mas também sou vagabundo\n",
    "    Mas hoje dou valor de verdade pra minha saúde,\n",
    "    Pra minha liberdade\n",
    "    Que bom te encontrar nessa cidade\n",
    "    Esse brilho intenso me lembra você\n",
    "    História, nossas histórias\n",
    "    Dias de luta, dias de glória\n",
    "    História, nossas histórias\n",
    "    Dias de luta, dias de glória\n",
    "    História, nossas histórias\n",
    "    Dias de luta, dias de glória\n",
    "    História, nossas histórias\n",
    "    Dias de luta, dias de glória\n",
    "    Hoje estou feliz, acordei com o pé direito\n",
    "    E vou fazer de novo, vou fazer muito bem feito\n",
    "    Sintonia, telepatia, comunicação pelo córtex bum bye bye\n",
    "    \"\"\"\n",
    "}"
   ]
  },
  {
   "cell_type": "markdown",
   "id": "9bd4e26c",
   "metadata": {},
   "source": [
    "## 1. Utilizando a biblioteca de baixo nível - Elastisearch\n",
    "\n",
    "Antes de fazer qualquer operação , é necessário conectar com o banco. Prencha a varíavel abaixo com a senha do banco"
   ]
  },
  {
   "cell_type": "code",
   "execution_count": null,
   "id": "b1a318b1",
   "metadata": {},
   "outputs": [],
   "source": [
    "HOST = 'http://localhost:9200'\n",
    "USERNAME = 'elastic'\n",
    "PASSWORD = 'test123'"
   ]
  },
  {
   "cell_type": "code",
   "execution_count": null,
   "id": "a907f6bf",
   "metadata": {},
   "outputs": [],
   "source": [
    "## Criando o conector e verificando a conexão. Caso o elastisarch não esteja disponível, o código falhará.\n",
    "\n",
    "from elasticsearch import Elasticsearch\n",
    "\n",
    "client = Elasticsearch(\n",
    "    HOST,\n",
    "    basic_auth=(USERNAME,PASSWORD)\n",
    ")\n",
    "\n",
    "client.info()"
   ]
  },
  {
   "cell_type": "markdown",
   "id": "20b9a4c1",
   "metadata": {},
   "source": [
    "Os objetos são armazenados em uma estrutura chamada **índice (index)**. Essa estrutura pode ser comparada a uma tabela em bancos relacionais como o PostgreSQL, ou a uma coleção no MongoDB. Criando o índice para salvar as músicas"
   ]
  },
  {
   "cell_type": "code",
   "execution_count": null,
   "id": "9f8aa21a",
   "metadata": {},
   "outputs": [],
   "source": [
    "INDEX_LETRAS = 'letras'"
   ]
  },
  {
   "cell_type": "code",
   "execution_count": null,
   "id": "dc84b147",
   "metadata": {},
   "outputs": [],
   "source": [
    "if client.indices.exists(index=INDEX_LETRAS): #verifique se o índice já existe\n",
    "    print(f\"Índice {INDEX_LETRAS} já existe. Deletando e criando novamente.\")\n",
    "    client.indices.delete(index=INDEX_LETRAS) #deletando o índice se já existir\n",
    "client.indices.create(index=INDEX_LETRAS) #criando o índice"
   ]
  },
  {
   "cell_type": "markdown",
   "id": "4d0003a2",
   "metadata": {},
   "source": [
    "### Criando\n",
    "\n",
    "O comando para salvar o objeto dentro do elastisearch é o .index"
   ]
  },
  {
   "cell_type": "code",
   "execution_count": null,
   "id": "89c430e3",
   "metadata": {},
   "outputs": [],
   "source": [
    "levanta_anda_es = client.index(\n",
    "    index=INDEX_LETRAS, # qual indice será utilizado\n",
    "    document=levanta_anda, # qual objeto será salvo\n",
    "    id=\"levanta_e_anda\" # id do objeto, se não for informado, o elasticsearch cria um automaticamente\n",
    ")"
   ]
  },
  {
   "cell_type": "code",
   "execution_count": null,
   "id": "1f6a4e01",
   "metadata": {},
   "outputs": [],
   "source": [
    "levanta_anda_es"
   ]
  },
  {
   "cell_type": "markdown",
   "id": "9a40926c",
   "metadata": {},
   "source": [
    "A chave 'result' informa se o objeto foi criado no elasticseach.\n",
    "\n",
    "Salvando os demais objetos no elastisearch"
   ]
  },
  {
   "cell_type": "code",
   "execution_count": null,
   "id": "8f036312",
   "metadata": {},
   "outputs": [],
   "source": [
    "hoje_cedo_es = client.index(\n",
    "    index=INDEX_LETRAS,\n",
    "    document=hoje_cedo, \n",
    "    id=\"hoje_cedo\" \n",
    ")\n",
    "\n",
    "dias_gloria_es = client.index(\n",
    "    index=INDEX_LETRAS,\n",
    "    document=dias_gloria, \n",
    "    id=\"dias_gloria\" \n",
    ")"
   ]
  },
  {
   "cell_type": "markdown",
   "id": "2dde670f",
   "metadata": {},
   "source": [
    "Para salvar um conjunto de objeto, verifique a documentação do [helper](https://elasticsearch-py.readthedocs.io/en/v7.16.0/helpers.html)"
   ]
  },
  {
   "cell_type": "markdown",
   "id": "5db9f8b9",
   "metadata": {},
   "source": [
    "### Recuperando\n",
    "\n",
    "O comando para salvar o objeto dentro do elastisearch é o .get. \n"
   ]
  },
  {
   "cell_type": "code",
   "execution_count": null,
   "id": "b873b8a5",
   "metadata": {},
   "outputs": [],
   "source": [
    "levanta_e_anda_return = client.get(index=INDEX_LETRAS,id=\"levanta_e_anda\")"
   ]
  },
  {
   "cell_type": "code",
   "execution_count": null,
   "id": "9b91f936",
   "metadata": {},
   "outputs": [],
   "source": [
    "levanta_e_anda_return"
   ]
  },
  {
   "cell_type": "markdown",
   "id": "35baa616",
   "metadata": {},
   "source": [
    "O elasticsearch salva todas as informações do objeto dentro da chave _source. Além disso, possui a chave 'found' informando se encontrou o objeto dentro do banco, como também o indice que ele se encontra.\n",
    "\n",
    "Uma outra forma simples de recuperar dados é através da pesquisa por uma das chaves do objeto. No notebook da pasta 'Pesquisa', você encontrará mais exemplos de pesquisa"
   ]
  },
  {
   "cell_type": "code",
   "execution_count": null,
   "id": "4edc4c6a",
   "metadata": {},
   "outputs": [],
   "source": [
    "#Pesquisando no índice letras, procurando por músicas com a palavra \"Emicida\" no campo \"artista\"\n",
    "\n",
    "response = client.search(\n",
    "    index=INDEX_LETRAS, # qual índice será utilizado\n",
    "    query={\n",
    "        \"match\":{\n",
    "            \"artista\":\"Emicida\" # qual campo será pesquisado e qual o valor procurado\n",
    "        }\n",
    "    }\n",
    ")"
   ]
  },
  {
   "cell_type": "code",
   "execution_count": null,
   "id": "ac276711",
   "metadata": {},
   "outputs": [],
   "source": [
    "response"
   ]
  },
  {
   "cell_type": "markdown",
   "id": "119eab66",
   "metadata": {},
   "source": [
    "O retorno da pesquisa possui 3 chaves\n",
    "\n",
    "1. total\n",
    "2. max_score\n",
    "3. hits\n",
    "\n",
    "A primeira chave mostra quantos objetos satisfazem a pesquisa (neste caso, são 2 )"
   ]
  },
  {
   "cell_type": "code",
   "execution_count": null,
   "id": "e56defe2",
   "metadata": {},
   "outputs": [],
   "source": [
    "#Pesquisando no índice letras, procurando por músicas com a palavra \"gloria\" no campo \"letra\"\n",
    "\n",
    "response = client.search(\n",
    "    index=INDEX_LETRAS, # qual índice será utilizado\n",
    "    query={\n",
    "        \"match\":{\n",
    "            \"letra\":\"gloria\" # qual campo será pesquisado e qual o valor procurado\n",
    "        }\n",
    "    }\n",
    ")"
   ]
  },
  {
   "cell_type": "markdown",
   "id": "422fbb18",
   "metadata": {},
   "source": [
    "### Atualizando \n",
    "\n",
    "A atualizando é feita através do comando .update. Como o Elasticsearch é um banco document-like, é possível criar novas chaves ou somente atualizar as chaves ja existentes.\n"
   ]
  },
  {
   "cell_type": "code",
   "execution_count": null,
   "id": "f6d713f7",
   "metadata": {},
   "outputs": [],
   "source": [
    "client.update(index=INDEX_LETRAS, id=\"levanta_e_anda\", doc={\n",
    "    \"ano\": 2025\n",
    "})"
   ]
  },
  {
   "cell_type": "code",
   "execution_count": null,
   "id": "d145c1cf",
   "metadata": {},
   "outputs": [],
   "source": [
    "client.update(index=INDEX_LETRAS, id=\"levanta_e_anda\", doc={\n",
    "    \"ano_shows\": [2021,2022,2023]\n",
    "})"
   ]
  },
  {
   "cell_type": "code",
   "execution_count": null,
   "id": "378368cc",
   "metadata": {},
   "outputs": [],
   "source": [
    "# Verificando o resultado da atualização\n",
    "levanta_e_anda_return = client.get(index=INDEX_LETRAS,id=\"levanta_e_anda\")"
   ]
  },
  {
   "cell_type": "code",
   "execution_count": null,
   "id": "c890a21b",
   "metadata": {},
   "outputs": [],
   "source": [
    "levanta_e_anda_return"
   ]
  },
  {
   "cell_type": "markdown",
   "id": "2d331db8",
   "metadata": {},
   "source": [
    "### Deletando\n",
    "\n",
    "Por último, o comando .delete deleta o objeto no banco"
   ]
  },
  {
   "cell_type": "code",
   "execution_count": null,
   "id": "cf02cd74",
   "metadata": {},
   "outputs": [],
   "source": [
    "client.delete(index=INDEX_LETRAS, id=\"levanta_e_anda\")"
   ]
  },
  {
   "cell_type": "code",
   "execution_count": null,
   "id": "c5e55511",
   "metadata": {},
   "outputs": [],
   "source": [
    "#Pesquisando para certificar que o documento foi deletado\n",
    "\n",
    "levanta_e_anda_return = client.get(index=INDEX_LETRAS,id=\"levanta_e_anda\")"
   ]
  },
  {
   "cell_type": "markdown",
   "id": "8db9f5cd",
   "metadata": {},
   "source": [
    "## 2. Utilizando a biblioteca de alto nível - Elastisearch_dsl\n",
    "\n",
    "O elastisearch_dsl utiliza o conector oferecido pela a biblioteca de baixo nível, após conectado, \n",
    "é precisa criar uma classe que representará o indice. A biblioteca aceita conectar com diversos elasticsearch ao mesmo tempo, porém ele utiliza uma conexão default"
   ]
  },
  {
   "cell_type": "code",
   "execution_count": null,
   "id": "d718ac46",
   "metadata": {},
   "outputs": [],
   "source": [
    "from elasticsearch_dsl import connections\n",
    "\n",
    "connections.add_connection(\"default\",client)"
   ]
  },
  {
   "cell_type": "markdown",
   "id": "e82ed569",
   "metadata": {},
   "source": [
    "A  classe precisa das propriedades que representarão as chaves."
   ]
  },
  {
   "cell_type": "code",
   "execution_count": null,
   "id": "00c80cff",
   "metadata": {},
   "outputs": [],
   "source": [
    "INDEX_LETRAS_DSL = 'letras_dsl'"
   ]
  },
  {
   "cell_type": "code",
   "execution_count": null,
   "id": "8a5c1f40",
   "metadata": {},
   "outputs": [],
   "source": [
    "from elasticsearch_dsl import Document, Integer, Text\n",
    "from typing import Optional\n",
    "\n",
    "class Letra(Document):\n",
    "    artista : Optional[str] = Text()\n",
    "    nome: Optional[str] = Text()\n",
    "    ano:Optional[int] = Integer()\n",
    "    letra:Optional[str] = Text()\n",
    "\n",
    "    class Index:\n",
    "        name = INDEX_LETRAS_DSL\n",
    "\n",
    "    def save(self, ** kwargs):\n",
    "        return super().save(** kwargs)\n",
    "    \n",
    "# As propriedades 'artista', 'nome', e 'letra' são do tipo Text, o que significa que serão analisadas pelo Elasticsearch, enquanto 'ano' será mapeado como inteiro.\n",
    "# A classe representa o índice 'letras_dsl' no Elasticsearch."
   ]
  },
  {
   "cell_type": "code",
   "execution_count": null,
   "id": "845d99fb",
   "metadata": {},
   "outputs": [],
   "source": [
    "## Criando o índice letras_dsl se não existir\n",
    "if Letra._index.exists(): # verifica se o índice já existe\n",
    "    Letra._index.delete() # deleta o índice se já existir\n",
    "Letra.init() # cria o índice"
   ]
  },
  {
   "cell_type": "markdown",
   "id": "f402f1dd",
   "metadata": {},
   "source": [
    "### Criando\n",
    "\n",
    "Diferente da biblioteca de baixo nível , a dsl conecta o objeto com o banco diretamente."
   ]
  },
  {
   "cell_type": "code",
   "execution_count": null,
   "id": "0b945570",
   "metadata": {},
   "outputs": [],
   "source": [
    "levanta_anda_es= Letra(\n",
    "    artista=levanta_anda['artista'],\n",
    "    nome=levanta_anda['nome'],\n",
    "    ano=levanta_anda['ano'],\n",
    "    letra=levanta_anda['letra']\n",
    ")"
   ]
  },
  {
   "cell_type": "code",
   "execution_count": null,
   "id": "61d210ff",
   "metadata": {},
   "outputs": [],
   "source": [
    "#Utilizando o método save para salvar o documento no índice letras_dsl\n",
    "levanta_anda_es.save()"
   ]
  },
  {
   "cell_type": "markdown",
   "id": "93f8c66d",
   "metadata": {},
   "source": [
    "Para informar o id, é necessário informar na chave meta"
   ]
  },
  {
   "cell_type": "code",
   "execution_count": null,
   "id": "48c22889",
   "metadata": {},
   "outputs": [],
   "source": [
    "hoje_cedo_es = Letra(\n",
    "    artista=hoje_cedo['artista'],\n",
    "    nome=hoje_cedo['nome'],\n",
    "    ano=hoje_cedo['ano'],\n",
    "    letra=hoje_cedo['letra'],\n",
    "    meta={'id': 'hoje_cedo'} # Adicionando um campo meta para identificar o id \n",
    ")\n",
    "\n",
    "hoje_cedo_es.save()\n",
    "\n"
   ]
  },
  {
   "cell_type": "code",
   "execution_count": null,
   "id": "64495220",
   "metadata": {},
   "outputs": [],
   "source": [
    "dias_gloria_es = Letra(\n",
    "    artista=dias_gloria['artista'],\n",
    "    nome=dias_gloria['nome'],\n",
    "    ano=dias_gloria['ano'],\n",
    "    letra=dias_gloria['letra'],\n",
    "    meta={'id': 'dias_gloria'} # Adicionando um campo meta para identificar o id \n",
    ")\n",
    "dias_gloria_es.save()"
   ]
  },
  {
   "cell_type": "markdown",
   "id": "099cad18",
   "metadata": {},
   "source": [
    "### Recuperar\n",
    "\n",
    "o metodo .get e o .search permite recuperar o documento"
   ]
  },
  {
   "cell_type": "code",
   "execution_count": null,
   "id": "eb51e6ed",
   "metadata": {},
   "outputs": [],
   "source": [
    "dias_gloria_es_return = Letra.get(id=\"dias_gloria\")"
   ]
  },
  {
   "cell_type": "code",
   "execution_count": null,
   "id": "14984452",
   "metadata": {},
   "outputs": [],
   "source": [
    "dias_gloria_es_return"
   ]
  },
  {
   "cell_type": "code",
   "execution_count": null,
   "id": "044ac2bf",
   "metadata": {},
   "outputs": [],
   "source": [
    "#Refazendo a pesqiusa por músicas do artista Emicida\n",
    "# A biblioteca somente executa a pesquisa quando o método execute() é chamado.\n",
    "response = Letra.search().query(\"match\", artista=\"Emicida\").execute()"
   ]
  },
  {
   "cell_type": "code",
   "execution_count": null,
   "id": "6dcf6492",
   "metadata": {},
   "outputs": [],
   "source": [
    "response"
   ]
  },
  {
   "cell_type": "markdown",
   "id": "d1360485",
   "metadata": {},
   "source": [
    "### Atualização\n",
    "\n",
    "Basta atualizar o método .update.\n",
    "\n",
    "**OBS**: Como o indice esta associado a classe, somente as propriedades que estão mapeado na classe serão salvos, sendo assim, não é possível criar novos campos a menos que o indice seja recriado no elastisearch"
   ]
  },
  {
   "cell_type": "code",
   "execution_count": null,
   "id": "b10c5623",
   "metadata": {},
   "outputs": [],
   "source": [
    "levanta_anda_es.ano = 2025\n",
    "\n",
    "levanta_anda_es.update(ano=2025)  # Atualizando o documento com o novo ano"
   ]
  },
  {
   "cell_type": "markdown",
   "id": "1585ecb4",
   "metadata": {},
   "source": [
    "### Deleta"
   ]
  },
  {
   "cell_type": "code",
   "execution_count": null,
   "id": "7f59a279",
   "metadata": {},
   "outputs": [],
   "source": [
    "hoje_cedo_es_return = Letra.get(id=\"hoje_cedo\")"
   ]
  },
  {
   "cell_type": "code",
   "execution_count": null,
   "id": "47fa2a30",
   "metadata": {},
   "outputs": [],
   "source": [
    "hoje_cedo_es_return.delete()  # Deletando o documento"
   ]
  }
 ],
 "metadata": {
  "kernelspec": {
   "display_name": "Python 3",
   "language": "python",
   "name": "python3"
  },
  "language_info": {
   "name": "python",
   "version": "3.12.0"
  }
 },
 "nbformat": 4,
 "nbformat_minor": 5
}
